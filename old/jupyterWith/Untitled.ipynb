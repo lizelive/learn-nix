{
 "cells": [
  {
   "cell_type": "code",
   "execution_count": 1,
   "id": "9465c06c-97b9-4ef0-b6c1-826c70d0a4c1",
   "metadata": {},
   "outputs": [
    {
     "name": "stdout",
     "output_type": "stream",
     "text": [
      "/nix/store/w0dfdgbbk4s87kgi6cvjqjaip37igky8-python3-3.10.6-env/bin/python3.10: No module named pip\n",
      "Note: you may need to restart the kernel to use updated packages.\n"
     ]
    }
   ],
   "source": [
    "%pip install"
   ]
  },
  {
   "cell_type": "code",
   "execution_count": null,
   "id": "2f752687-5ce2-4e3a-a63d-2e5f94c58694",
   "metadata": {},
   "outputs": [],
   "source": []
  }
 ],
 "metadata": {
  "kernelspec": {
   "display_name": "Python3 - Python-env",
   "language": "python",
   "name": "ipython_python-env"
  },
  "language_info": {
   "codemirror_mode": {
    "name": "ipython",
    "version": 3
   },
   "file_extension": ".py",
   "mimetype": "text/x-python",
   "name": "python",
   "nbconvert_exporter": "python",
   "pygments_lexer": "ipython3",
   "version": "3.10.6"
  }
 },
 "nbformat": 4,
 "nbformat_minor": 5
}
